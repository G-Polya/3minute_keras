{
 "cells": [
  {
   "cell_type": "code",
   "execution_count": 5,
   "metadata": {},
   "outputs": [],
   "source": [
    "from __future__ import print_function\n",
    "from keras.preprocessing import sequence\n",
    "from keras.datasets import imdb\n",
    "from keras import layers, models"
   ]
  },
  {
   "cell_type": "code",
   "execution_count": 6,
   "metadata": {},
   "outputs": [],
   "source": [
    "class Data:\n",
    "    def __init__(self, max_features=20000, maxlen=80):\n",
    "        (x_train, y_train), (x_test, y_test) = imdb.load_data(num_words=max_features)\n",
    "        x_train = sequence.pad_sequences(x_train, maxlen=maxlen)\n",
    "        x_test = sequence.pad_sequences(x_test,maxlen=maxlen)\n",
    "        self.x_train, self.y_train = x_train, y_train\n",
    "        self.x_test, self.y_test = x_test, y_test\n",
    "        \n",
    "class RNN_LSTM(models.Model):\n",
    "    def __init__(self, max_features, maxlen):\n",
    "        x = layers.Input((maxlen,))\n",
    "        h = layers.Embedding(max_features, 128)(x)\n",
    "        h = layers.LSTM(128, dropout=0.2, recurrent_dropout=0.2)(h)\n",
    "        y = layers.Dense(1, activation='sigmoid')(h)\n",
    "        super().__init__(x,y)\n",
    "        \n",
    "        self.compile(loss='binary_crossentropy', optimizer='adam', metrics=['accuracy'])\n",
    "        \n",
    "# class Machine:\n",
    "#     def __init__(self, max_features=20000, maxlen=80):\n",
    "\n",
    "#         self.data = Data(max_features, maxlne)"
   ]
  },
  {
   "cell_type": "code",
   "execution_count": 7,
   "metadata": {},
   "outputs": [
    {
     "name": "stdout",
     "output_type": "stream",
     "text": [
      "WARNING:tensorflow:Layer lstm will not use cuDNN kernel since it doesn't meet the cuDNN kernel criteria. It will use generic GPU kernel as fallback when running on GPU\n",
      "Training Stage\n",
      "=========================\n",
      "Epoch 1/3\n",
      "782/782 [==============================] - 221s 283ms/step - loss: 0.4247 - accuracy: 0.8024 - val_loss: 0.3566 - val_accuracy: 0.8453\n",
      "Epoch 2/3\n",
      "782/782 [==============================] - 222s 284ms/step - loss: 0.2538 - accuracy: 0.8994 - val_loss: 0.3702 - val_accuracy: 0.8409\n",
      "Epoch 3/3\n",
      "782/782 [==============================] - 220s 281ms/step - loss: 0.1646 - accuracy: 0.9384 - val_loss: 0.4703 - val_accuracy: 0.8277\n",
      "782/782 [==============================] - 11s 14ms/step - loss: 0.4703 - accuracy: 0.8277\n",
      "Test performance: accuracy=0.8276799917221069, loss=0.4703076481819153\n"
     ]
    }
   ],
   "source": [
    "max_features = 20000\n",
    "maxlen = 80\n",
    "\n",
    "data = Data(max_features, maxlen)\n",
    "model = RNN_LSTM(max_features, maxlen)\n",
    "epochs = 3\n",
    "batch_size = 32\n",
    "\n",
    "print('Training Stage')\n",
    "print('=========================')\n",
    "model.fit(data.x_train, data.y_train, batch_size=batch_size, epochs=epochs, validation_data=(data.x_test, data.y_test))\n",
    "\n",
    "score, acc = model.evaluate(data.x_test, data.y_test, batch_size=batch_size)\n",
    "\n",
    "print('Test performance: accuracy={0}, loss={1}'.format(acc, score))"
   ]
  },
  {
   "cell_type": "code",
   "execution_count": null,
   "metadata": {},
   "outputs": [],
   "source": []
  }
 ],
 "metadata": {
  "kernelspec": {
   "display_name": "Keras",
   "language": "python",
   "name": "keras"
  },
  "language_info": {
   "codemirror_mode": {
    "name": "ipython",
    "version": 3
   },
   "file_extension": ".py",
   "mimetype": "text/x-python",
   "name": "python",
   "nbconvert_exporter": "python",
   "pygments_lexer": "ipython3",
   "version": "3.7.4"
  }
 },
 "nbformat": 4,
 "nbformat_minor": 4
}
