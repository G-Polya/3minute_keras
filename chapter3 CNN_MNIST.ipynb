{
 "cells": [
  {
   "cell_type": "code",
   "execution_count": 1,
   "metadata": {},
   "outputs": [],
   "source": [
    "import keras"
   ]
  },
  {
   "cell_type": "code",
   "execution_count": 2,
   "metadata": {},
   "outputs": [],
   "source": [
    "from keras import models, layers\n",
    "from keras import backend"
   ]
  },
  {
   "cell_type": "code",
   "execution_count": 3,
   "metadata": {},
   "outputs": [],
   "source": [
    "class CNN(models.Sequential):\n",
    "    def __init__(self, input_shape, num_classes):\n",
    "        super().__init__()\n",
    "        \n",
    "        self.add(layers.Conv2D(32, kernel_size=(3,3), activation='relu', input_shape=input_shape))\n",
    "        self.add(layers.Conv2D(64, kernel_size=(3,3),activation='relu'))\n",
    "        self.add(layers.MaxPooling2D(pool_size=(2,2)))\n",
    "        self.add(layers.Dropout(0.25))\n",
    "        self.add(layers.Flatten())\n",
    "        self.add(layers.Dense(128, activation='relu'))\n",
    "        self.add(layers.Dense(num_classes, activation='softmax'))\n",
    "        \n",
    "        self.compile(loss=keras.losses.categorical_crossentropy,optimizer='rmsprop', metrics=['accuracy'])"
   ]
  },
  {
   "cell_type": "code",
   "execution_count": 4,
   "metadata": {},
   "outputs": [],
   "source": [
    "from keras import datasets\n",
    "\n",
    "class DATA():\n",
    "    def __init__(self):\n",
    "        num_classes = 10\n",
    "        \n",
    "        (x_train, y_train), (x_test, y_test) = datasets.mnist.load_data()\n",
    "        \n",
    "        img_rows, img_cols = x_train.shape[1:]\n",
    "        print(img_rows, img_cols)\n",
    "        \n",
    "        if(backend.image_data_format() == 'channels_first'):\n",
    "            x_train = x_train.reshape(x_train.shape[0], 1, img_rows, img_cols)\n",
    "            x_test = x_test.reshape(x_test.shape[0], 1, img_rows, img_cols)\n",
    "        else:\n",
    "            x_train = x_train.reshape(x_train.shape[0], img_rows, img_cols, 1)\n",
    "            x_test = x_test.reshape(x_test.shape[0], img_rows, img_cols, 1)\n",
    "            input_shape = (img_rows, img_cols, 1)\n",
    "            \n",
    "        x_train = x_train.astype('float32')\n",
    "        x_test = x_test.astype('float32')\n",
    "        \n",
    "        x_train /= 255\n",
    "        x_test /= 255\n",
    "        \n",
    "        y_train = keras.utils.to_categorical(y_train, num_classes)\n",
    "        y_test = keras.utils.to_categorical(y_test, num_classes)\n",
    "        \n",
    "        self.input_shape = input_shape\n",
    "        self.num_classes = num_classes\n",
    "        self.x_train, self.y_train = x_train, y_train\n",
    "        self.x_test, self.y_test = x_test, y_test\n",
    "        \n",
    "            "
   ]
  },
  {
   "cell_type": "code",
   "execution_count": 6,
   "metadata": {},
   "outputs": [],
   "source": [
    "from skeras import plot_acc, plot_loss\n",
    "import matplotlib.pyplot as plt"
   ]
  },
  {
   "cell_type": "code",
   "execution_count": 7,
   "metadata": {},
   "outputs": [
    {
     "name": "stdout",
     "output_type": "stream",
     "text": [
      "28 28\n",
      "Epoch 1/10\n",
      "375/375 [==============================] - 2s 5ms/step - loss: 0.1792 - accuracy: 0.9444 - val_loss: 0.0594 - val_accuracy: 0.9830\n",
      "Epoch 2/10\n",
      "375/375 [==============================] - 2s 4ms/step - loss: 0.0516 - accuracy: 0.9839 - val_loss: 0.0446 - val_accuracy: 0.9870\n",
      "Epoch 3/10\n",
      "375/375 [==============================] - 2s 4ms/step - loss: 0.0341 - accuracy: 0.9896 - val_loss: 0.0507 - val_accuracy: 0.9856\n",
      "Epoch 4/10\n",
      "375/375 [==============================] - 2s 4ms/step - loss: 0.0240 - accuracy: 0.9924 - val_loss: 0.0430 - val_accuracy: 0.9876\n",
      "Epoch 5/10\n",
      "375/375 [==============================] - 2s 4ms/step - loss: 0.0177 - accuracy: 0.9941 - val_loss: 0.0425 - val_accuracy: 0.9883\n",
      "Epoch 6/10\n",
      "375/375 [==============================] - 2s 4ms/step - loss: 0.0138 - accuracy: 0.9956 - val_loss: 0.0395 - val_accuracy: 0.9898\n",
      "Epoch 7/10\n",
      "375/375 [==============================] - 2s 4ms/step - loss: 0.0098 - accuracy: 0.9968 - val_loss: 0.0490 - val_accuracy: 0.9895\n",
      "Epoch 8/10\n",
      "375/375 [==============================] - 2s 4ms/step - loss: 0.0082 - accuracy: 0.9971 - val_loss: 0.0526 - val_accuracy: 0.9901\n",
      "Epoch 9/10\n",
      "375/375 [==============================] - 2s 4ms/step - loss: 0.0072 - accuracy: 0.9978 - val_loss: 0.0540 - val_accuracy: 0.9897\n",
      "Epoch 10/10\n",
      "375/375 [==============================] - 2s 4ms/step - loss: 0.0053 - accuracy: 0.9983 - val_loss: 0.0547 - val_accuracy: 0.9897\n",
      "313/313 [==============================] - 1s 2ms/step - loss: 0.0436 - accuracy: 0.9898\n",
      "\n",
      "Test Loss :  0.04359706491231918\n",
      "Test Accuracy:  0.989799976348877\n"
     ]
    },
    {
     "data": {
      "image/png": "[encoded data removed]",
      "text/plain": [
       "<Figure size 432x288 with 1 Axes>"
      ]
     },
     "metadata": {
      "needs_background": "light"
     },
     "output_type": "display_data"
    },
    {
     "data": {
      "image/png": "[encoded data removed]",
      "text/plain": [
       "<Figure size 432x288 with 1 Axes>"
      ]
     },
     "metadata": {
      "needs_background": "light"
     },
     "output_type": "display_data"
    }
   ],
   "source": [
    "batch_size = 128\n",
    "epochs = 10\n",
    "\n",
    "data = DATA()\n",
    "model = CNN(data.input_shape, data.num_classes)\n",
    "\n",
    "history = model.fit(data.x_train, data.y_train, batch_size=batch_size, epochs=epochs, validation_split=0.2)\n",
    "\n",
    "score = model.evaluate(data.x_test, data.y_test)\n",
    "print()\n",
    "\n",
    "print('Test Loss : ', score[0])\n",
    "print('Test Accuracy: ', score[1])\n",
    "\n",
    "plot_acc(history)\n",
    "plt.show()\n",
    "plot_loss(history)\n",
    "plt.show()"
   ]
  },
  {
   "cell_type": "code",
   "execution_count": null,
   "metadata": {},
   "outputs": [],
   "source": []
  }
 ],
 "metadata": {
  "kernelspec": {
   "display_name": "Keras",
   "language": "python",
   "name": "keras"
  },
  "language_info": {
   "codemirror_mode": {
    "name": "ipython",
    "version": 3
   },
   "file_extension": ".py",
   "mimetype": "text/x-python",
   "name": "python",
   "nbconvert_exporter": "python",
   "pygments_lexer": "ipython3",
   "version": "3.7.4"
  }
 },
 "nbformat": 4,
 "nbformat_minor": 4
}
