{
 "cells": [
  {
   "cell_type": "code",
   "execution_count": 1,
   "metadata": {},
   "outputs": [],
   "source": [
    "import keras"
   ]
  },
  {
   "cell_type": "code",
   "execution_count": 2,
   "metadata": {},
   "outputs": [],
   "source": [
    "from keras import models, layers\n",
    "from keras import backend"
   ]
  },
  {
   "cell_type": "code",
   "execution_count": 3,
   "metadata": {},
   "outputs": [],
   "source": [
    "class CNN(models.Sequential):\n",
    "    def __init__(self, input_shape, num_classes):\n",
    "        super().__init__()\n",
    "        \n",
    "        self.add(layers.Conv2D(filters=32, kernel_size=(3,3), activation='relu', input_shape=input_shape))\n",
    "        \n",
    "        self.add(layers.Conv2D(64, kernel_size=(3,3),activation='relu'))\n",
    "        self.add(layers.MaxPooling2D(pool_size=(2,2)))\n",
    "        self.add(layers.Dropout(0.25))\n",
    "        self.add(layers.Flatten())\n",
    "        print(self.summary())\n",
    "        self.add(layers.Dense(128, activation='relu'))\n",
    "        self.add(layers.Dense(num_classes, activation='softmax'))\n",
    "        \n",
    "        self.compile(loss=keras.losses.categorical_crossentropy,optimizer='rmsprop', metrics=['accuracy'])"
   ]
  },
  {
   "cell_type": "code",
   "execution_count": 4,
   "metadata": {},
   "outputs": [],
   "source": [
    "from keras import datasets\n",
    "\n",
    "class DATA():\n",
    "    def __init__(self):\n",
    "        num_classes = 10\n",
    "        \n",
    "        (x_train, y_train), (x_test, y_test) = datasets.mnist.load_data()\n",
    "        \n",
    "        img_rows, img_cols = x_train.shape[1:]\n",
    "        print(img_rows, img_cols)\n",
    "        \n",
    "        if(backend.image_data_format() == 'channels_first'):\n",
    "            x_train = x_train.reshape(x_train.shape[0], 1, img_rows, img_cols)\n",
    "            x_test = x_test.reshape(x_test.shape[0], 1, img_rows, img_cols)\n",
    "        else:\n",
    "            x_train = x_train.reshape(x_train.shape[0], img_rows, img_cols, 1)\n",
    "            x_test = x_test.reshape(x_test.shape[0], img_rows, img_cols, 1)\n",
    "            input_shape = (img_rows, img_cols, 1)\n",
    "            \n",
    "        x_train = x_train.astype('float32')\n",
    "        x_test = x_test.astype('float32')\n",
    "        \n",
    "        x_train /= 255\n",
    "        x_test /= 255\n",
    "        \n",
    "        y_train = keras.utils.to_categorical(y_train, num_classes)\n",
    "        y_test = keras.utils.to_categorical(y_test, num_classes)\n",
    "        \n",
    "        self.input_shape = input_shape\n",
    "        self.num_classes = num_classes\n",
    "        self.x_train, self.y_train = x_train, y_train\n",
    "        self.x_test, self.y_test = x_test, y_test\n",
    "        \n",
    "            "
   ]
  },
  {
   "cell_type": "code",
   "execution_count": 7,
   "metadata": {},
   "outputs": [],
   "source": [
    "\n",
    "\n",
    "import matplotlib.pyplot as plt"
   ]
  },
  {
   "cell_type": "code",
   "execution_count": 8,
   "metadata": {},
   "outputs": [
    {
     "data": {
      "text/plain": [
       "(60000, 28, 28, 1)"
      ]
     },
     "execution_count": 8,
     "metadata": {},
     "output_type": "execute_result"
    }
   ],
   "source": [
    "data.x_train.shape"
   ]
  },
  {
   "cell_type": "code",
   "execution_count": 6,
   "metadata": {},
   "outputs": [
    {
     "name": "stdout",
     "output_type": "stream",
     "text": [
      "28 28\n",
      "Model: \"cnn\"\n",
      "_________________________________________________________________\n",
      "Layer (type)                 Output Shape              Param #   \n",
      "=================================================================\n",
      "conv2d (Conv2D)              (None, 26, 26, 32)        320       \n",
      "_________________________________________________________________\n",
      "conv2d_1 (Conv2D)            (None, 24, 24, 64)        18496     \n",
      "_________________________________________________________________\n",
      "max_pooling2d (MaxPooling2D) (None, 12, 12, 64)        0         \n",
      "_________________________________________________________________\n",
      "dropout (Dropout)            (None, 12, 12, 64)        0         \n",
      "_________________________________________________________________\n",
      "flatten (Flatten)            (None, 9216)              0         \n",
      "=================================================================\n",
      "Total params: 18,816\n",
      "Trainable params: 18,816\n",
      "Non-trainable params: 0\n",
      "_________________________________________________________________\n",
      "None\n",
      "Epoch 1/10\n",
      "375/375 [==============================] - 2s 5ms/step - loss: 0.1756 - accuracy: 0.9457 - val_loss: 0.0600 - val_accuracy: 0.9827\n",
      "Epoch 2/10\n",
      "375/375 [==============================] - 2s 4ms/step - loss: 0.0493 - accuracy: 0.9844 - val_loss: 0.0482 - val_accuracy: 0.9860\n",
      "Epoch 3/10\n",
      "375/375 [==============================] - 2s 5ms/step - loss: 0.0318 - accuracy: 0.9902 - val_loss: 0.0445 - val_accuracy: 0.9881\n",
      "Epoch 4/10\n",
      "375/375 [==============================] - 2s 5ms/step - loss: 0.0229 - accuracy: 0.9933 - val_loss: 0.0415 - val_accuracy: 0.9889\n",
      "Epoch 5/10\n",
      "375/375 [==============================] - 2s 4ms/step - loss: 0.0166 - accuracy: 0.9952 - val_loss: 0.0405 - val_accuracy: 0.9893\n",
      "Epoch 6/10\n",
      "375/375 [==============================] - 2s 4ms/step - loss: 0.0127 - accuracy: 0.9958 - val_loss: 0.0407 - val_accuracy: 0.9893\n",
      "Epoch 7/10\n",
      "375/375 [==============================] - 2s 4ms/step - loss: 0.0102 - accuracy: 0.9966 - val_loss: 0.0506 - val_accuracy: 0.9890\n",
      "Epoch 8/10\n",
      "375/375 [==============================] - 2s 4ms/step - loss: 0.0077 - accuracy: 0.9975 - val_loss: 0.0485 - val_accuracy: 0.9887\n",
      "Epoch 9/10\n",
      "375/375 [==============================] - 2s 4ms/step - loss: 0.0060 - accuracy: 0.9978 - val_loss: 0.0643 - val_accuracy: 0.9878\n",
      "Epoch 10/10\n",
      "375/375 [==============================] - 2s 5ms/step - loss: 0.0050 - accuracy: 0.9981 - val_loss: 0.0568 - val_accuracy: 0.9884\n",
      "313/313 [==============================] - 0s 2ms/step - loss: 0.0520 - accuracy: 0.9901\n",
      "\n",
      "Test Loss :  0.051974717527627945\n",
      "Test Accuracy:  0.9901000261306763\n"
     ]
    },
    {
     "ename": "NameError",
     "evalue": "name 'plot_acc' is not defined",
     "output_type": "error",
     "traceback": [
      "\u001b[1;31m---------------------------------------------------------------------------\u001b[0m",
      "\u001b[1;31mNameError\u001b[0m                                 Traceback (most recent call last)",
      "\u001b[1;32m<ipython-input-6-962fe25b13b7>\u001b[0m in \u001b[0;36m<module>\u001b[1;34m\u001b[0m\n\u001b[0;32m     13\u001b[0m \u001b[0mprint\u001b[0m\u001b[1;33m(\u001b[0m\u001b[1;34m'Test Accuracy: '\u001b[0m\u001b[1;33m,\u001b[0m \u001b[0mscore\u001b[0m\u001b[1;33m[\u001b[0m\u001b[1;36m1\u001b[0m\u001b[1;33m]\u001b[0m\u001b[1;33m)\u001b[0m\u001b[1;33m\u001b[0m\u001b[1;33m\u001b[0m\u001b[0m\n\u001b[0;32m     14\u001b[0m \u001b[1;33m\u001b[0m\u001b[0m\n\u001b[1;32m---> 15\u001b[1;33m \u001b[0mplot_acc\u001b[0m\u001b[1;33m(\u001b[0m\u001b[0mhistory\u001b[0m\u001b[1;33m)\u001b[0m\u001b[1;33m\u001b[0m\u001b[1;33m\u001b[0m\u001b[0m\n\u001b[0m\u001b[0;32m     16\u001b[0m \u001b[0mplt\u001b[0m\u001b[1;33m.\u001b[0m\u001b[0mshow\u001b[0m\u001b[1;33m(\u001b[0m\u001b[1;33m)\u001b[0m\u001b[1;33m\u001b[0m\u001b[1;33m\u001b[0m\u001b[0m\n\u001b[0;32m     17\u001b[0m \u001b[0mplot_loss\u001b[0m\u001b[1;33m(\u001b[0m\u001b[0mhistory\u001b[0m\u001b[1;33m)\u001b[0m\u001b[1;33m\u001b[0m\u001b[1;33m\u001b[0m\u001b[0m\n",
      "\u001b[1;31mNameError\u001b[0m: name 'plot_acc' is not defined"
     ]
    }
   ],
   "source": [
    "batch_size = 128\n",
    "epochs = 10\n",
    "\n",
    "data = DATA()\n",
    "model = CNN(data.input_shape, data.num_classes)\n",
    "\n",
    "history = model.fit(data.x_train, data.y_train, batch_size=batch_size, epochs=epochs, validation_split=0.2)\n",
    "\n",
    "score = model.evaluate(data.x_test, data.y_test)\n",
    "print()\n",
    "\n",
    "print('Test Loss : ', score[0])\n",
    "print('Test Accuracy: ', score[1])\n",
    "\n",
    "plot_acc(history)\n",
    "plt.show()\n",
    "plot_loss(history)\n",
    "plt.show()"
   ]
  },
  {
   "cell_type": "code",
   "execution_count": null,
   "metadata": {},
   "outputs": [],
   "source": []
  },
  {
   "cell_type": "code",
   "execution_count": null,
   "metadata": {},
   "outputs": [],
   "source": []
  }
 ],
 "metadata": {
  "kernelspec": {
   "display_name": "Keras",
   "language": "python",
   "name": "keras"
  },
  "language_info": {
   "codemirror_mode": {
    "name": "ipython",
    "version": 3
   },
   "file_extension": ".py",
   "mimetype": "text/x-python",
   "name": "python",
   "nbconvert_exporter": "python",
   "pygments_lexer": "ipython3",
   "version": "3.7.4"
  }
 },
 "nbformat": 4,
 "nbformat_minor": 4
}
