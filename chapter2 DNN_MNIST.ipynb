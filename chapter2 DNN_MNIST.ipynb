{
 "cells": [
  {
   "cell_type": "code",
   "execution_count": 6,
   "metadata": {},
   "outputs": [],
   "source": [
    "Nin = 784\n",
    "Nh_1 = [100, 50]\n",
    "number_of_class = 10\n",
    "Nout = number_of_class"
   ]
  },
  {
   "cell_type": "code",
   "execution_count": 7,
   "metadata": {},
   "outputs": [],
   "source": [
    "from keras import layers, models\n",
    "class DNN(models.Sequential):\n",
    "    def __init__(self, Nin, Nh_1, Nout):\n",
    "        super().__init__()\n",
    "        self.add(layers.Dense(Nh_1[0], activation='relu', input_shape=(Nin,), name=\"Hidden-1\"))\n",
    "        self.add(layers.Dense(Nh_1[1], activation='relu', name='Hidden-2'))\n",
    "        self.add(layers.Dense(Nout, activation='softmax'))\n",
    "        self.compile(loss='categorical_crossentropy', optimizer='adam')"
   ]
  },
  {
   "cell_type": "code",
   "execution_count": 8,
   "metadata": {},
   "outputs": [
    {
     "data": {
      "text/plain": [
       "(60000, 28, 28)"
      ]
     },
     "execution_count": 8,
     "metadata": {},
     "output_type": "execute_result"
    }
   ],
   "source": [
    "import numpy as np\n",
    "from keras import datasets\n",
    "from keras.utils import np_utils\n",
    "(X_train, y_train), (X_test, y_test) = datasets.mnist.load_data()\n",
    "y_train = np_utils.to_categorical(y_train)\n",
    "y_test = np_utils.to_categorical(y_test)\n",
    "L,W,H = X_train.shape\n",
    "X_train.shape"
   ]
  },
  {
   "cell_type": "code",
   "execution_count": 9,
   "metadata": {},
   "outputs": [
    {
     "data": {
      "text/plain": [
       "(10000, 784)"
      ]
     },
     "execution_count": 9,
     "metadata": {},
     "output_type": "execute_result"
    }
   ],
   "source": [
    "X_train = X_train.reshape(-1, W*H)\n",
    "X_test = X_test.reshape(-1,W*H)\n",
    "X_train = X_train / 255.0\n",
    "X_test = X_test/ 255.0\n",
    "X_train.shape\n",
    "X_test.shape"
   ]
  },
  {
   "cell_type": "code",
   "execution_count": 10,
   "metadata": {},
   "outputs": [
    {
     "name": "stdout",
     "output_type": "stream",
     "text": [
      "Model: \"dnn_2\"\n",
      "_________________________________________________________________\n",
      "Layer (type)                 Output Shape              Param #   \n",
      "=================================================================\n",
      "Hidden-1 (Dense)             (None, 100)               78500     \n",
      "_________________________________________________________________\n",
      "Hidden-2 (Dense)             (None, 50)                5050      \n",
      "_________________________________________________________________\n",
      "dense_2 (Dense)              (None, 10)                510       \n",
      "=================================================================\n",
      "Total params: 84,060\n",
      "Trainable params: 84,060\n",
      "Non-trainable params: 0\n",
      "_________________________________________________________________\n"
     ]
    }
   ],
   "source": [
    "model = DNN(Nin, Nh_1, Nout)\n",
    "model.summary()"
   ]
  },
  {
   "cell_type": "code",
   "execution_count": 5,
   "metadata": {},
   "outputs": [
    {
     "name": "stdout",
     "output_type": "stream",
     "text": [
      "WARNING:tensorflow:From C:\\Users\\wlska\\anaconda3\\lib\\site-packages\\keras\\backend\\tensorflow_backend.py:422: The name tf.global_variables is deprecated. Please use tf.compat.v1.global_variables instead.\n",
      "\n",
      "Train on 48000 samples, validate on 12000 samples\n",
      "Epoch 1/10\n",
      "48000/48000 [==============================] - 1s 17us/step - loss: 0.3802 - val_loss: 0.1942\n",
      "Epoch 2/10\n",
      "48000/48000 [==============================] - 1s 15us/step - loss: 0.1537 - val_loss: 0.1392\n",
      "Epoch 3/10\n",
      "48000/48000 [==============================] - 1s 15us/step - loss: 0.1114 - val_loss: 0.1156\n",
      "Epoch 4/10\n",
      "48000/48000 [==============================] - 1s 15us/step - loss: 0.0867 - val_loss: 0.1015\n",
      "Epoch 5/10\n",
      "48000/48000 [==============================] - 1s 15us/step - loss: 0.0690 - val_loss: 0.1016\n",
      "Epoch 6/10\n",
      "48000/48000 [==============================] - 1s 15us/step - loss: 0.0587 - val_loss: 0.0976\n",
      "Epoch 7/10\n",
      "48000/48000 [==============================] - 1s 15us/step - loss: 0.0469 - val_loss: 0.0961\n",
      "Epoch 8/10\n",
      "48000/48000 [==============================] - 1s 15us/step - loss: 0.0384 - val_loss: 0.0981\n",
      "Epoch 9/10\n",
      "48000/48000 [==============================] - 1s 15us/step - loss: 0.0329 - val_loss: 0.1015\n",
      "Epoch 10/10\n",
      "48000/48000 [==============================] - 1s 15us/step - loss: 0.0272 - val_loss: 0.0936\n",
      "10000/10000 [==============================] - 0s 5us/step\n",
      "Test Loss and Accuracy -> 0.08686418018129188\n"
     ]
    }
   ],
   "source": [
    "history = model.fit(X_train, y_train, epochs=10, batch_size=100, validation_split=0.2)\n",
    "performance_test = model.evaluate(X_test, y_test, batch_size=100)\n",
    "print(\"Test Loss and Accuracy ->\", performance_test)"
   ]
  },
  {
   "cell_type": "code",
   "execution_count": null,
   "metadata": {},
   "outputs": [],
   "source": []
  }
 ],
 "metadata": {
  "kernelspec": {
   "display_name": "Python 3",
   "language": "python",
   "name": "python3"
  },
  "language_info": {
   "codemirror_mode": {
    "name": "ipython",
    "version": 3
   },
   "file_extension": ".py",
   "mimetype": "text/x-python",
   "name": "python",
   "nbconvert_exporter": "python",
   "pygments_lexer": "ipython3",
   "version": "3.7.6"
  }
 },
 "nbformat": 4,
 "nbformat_minor": 4
}
